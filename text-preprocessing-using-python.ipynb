{
 "cells": [
  {
   "cell_type": "markdown",
   "metadata": {
    "_uuid": "3c77d7291ae3aff7ea714d3b19d708d455de016c"
   },
   "source": [
    "We cannot work with the text data in machine learning so we need to convert them into numerical vectors, This kernel has all techniques for conversion"
   ]
  },
  {
   "cell_type": "markdown",
   "metadata": {
    "_uuid": "dd0a25ec17f59044dd300cc75eee7b0e670107a0"
   },
   "source": [
    "> Text data needs to be cleaned and encoded to numerical values before giving them to machine learning models, this process of cleaning and encoding is called as **Text Preprocessing**"
   ]
  },
  {
   "cell_type": "markdown",
   "metadata": {
    "_uuid": "4b77a3ffeea9399d8ff4ed783b11d325c8a47ba7"
   },
   "source": [
    "In this kernel we are going to see some basic text cleaning steps and techniques for encoding text data. We are going ot see about\n",
    "1. **Understanding the data** - See what's data is all about. what should be considered for cleaning for data (Punctuations , stopwords etc..).\n",
    "2. **Basic Cleaning** -We will see what parameters need to be considered for cleaning of data (like Punctuations , stopwords etc..)  and its code.\n",
    "3. **Techniques for Encoding** - All the popular techniques that are used for encoding that I personally came across.\n",
    "    *           **Bag of Words**\n",
    "    *           **Binary Bag of Words**\n",
    "    *           **Bigram, Ngram**\n",
    "    *           **TF-IDF**( **T**erm  **F**requency - **I**nverse **D**ocument **F**requency)\n",
    "    *           **Word2Vec**\n",
    "    *           **Avg-Word2Vec**\n",
    "    *           **TF-IDF Word2Vec**\n",
    "\n",
    "Now, it's time to have fun!"
   ]
  },
  {
   "cell_type": "markdown",
   "metadata": {
    "_uuid": "3e9b8360f72e16b27f4ba5e353d412900fc4d5be"
   },
   "source": [
    " **Importing Libraries**"
   ]
  },
  {
   "cell_type": "code",
   "execution_count": 1,
   "metadata": {
    "_cell_guid": "b1076dfc-b9ad-4769-8c92-a6c4dae69d19",
    "_uuid": "8f2839f25d086af736a60e9eeb907d3b93b6e0e5"
   },
   "outputs": [],
   "source": [
    "import warnings\n",
    "warnings.filterwarnings(\"ignore\")                     #Ignoring unnecessory warnings\n",
    "\n",
    "import numpy as np                                  #for large and multi-dimensional arrays\n",
    "import pandas as pd                                 #for data manipulation and analysis\n",
    "import nltk                                         #Natural language processing tool-kit\n",
    "\n",
    "from nltk.corpus import stopwords                   #Stopwords corpus\n",
    "from nltk.stem import PorterStemmer                 # Stemmer\n",
    "\n",
    "from sklearn.feature_extraction.text import CountVectorizer          #For Bag of words\n",
    "from sklearn.feature_extraction.text import TfidfVectorizer          #For TF-IDF\n",
    "from gensim.models import Word2Vec                                   #For Word2Vec\n"
   ]
  },
  {
   "cell_type": "code",
   "execution_count": 2,
   "metadata": {
    "_cell_guid": "79c7e3d0-c299-4dcb-8224-4455121ee9b0",
    "_uuid": "d629ff2d2480ee46fbb7e2d37f6b5fab8052498a"
   },
   "outputs": [],
   "source": [
    "data_path = \"../input/Reviews.csv\"\n",
    "data = pd.read_csv(data_path)\n",
    "data_sel = data.head(10000)                                #Considering only top 10000 rows"
   ]
  },
  {
   "cell_type": "code",
   "execution_count": 3,
   "metadata": {
    "_uuid": "b861545a58f30384891126cf8a9f576db40e1a30"
   },
   "outputs": [
    {
     "data": {
      "text/plain": [
       "Index(['Id', 'ProductId', 'UserId', 'ProfileName', 'HelpfulnessNumerator',\n",
       "       'HelpfulnessDenominator', 'Score', 'Time', 'Summary', 'Text'],\n",
       "      dtype='object')"
      ]
     },
     "execution_count": 3,
     "metadata": {},
     "output_type": "execute_result"
    }
   ],
   "source": [
    "# Shape of our data\n",
    "data_sel.columns"
   ]
  },
  {
   "cell_type": "markdown",
   "metadata": {
    "_uuid": "8e77faa28f4d4807e716f4bff26f8ff49c3fb2bd"
   },
   "source": [
    "1. **Understanding the data**\n",
    "\n",
    "Looks like our main objective from the dataset is to predict whether a review is **Positive** or **Negative** based on the Text.\n",
    " \n",
    " if we see the Score column, it has values 1,2,3,4,5 .  Considering 1, 2 as Negative reviews and 4, 5 as Positive reviews.\n",
    " For Score = 3 we will consider it as Neutral review and lets delete the rows that are neutral, so that we can predict either Positive or Negative\n",
    " \n",
    " HelfulnessNumerator says about number of people found that review usefull and HelpfulnessDenominator is about usefull review count + not so usefull count.\n",
    " So, from this we can see that HelfulnessNumerator is always less than or equal to HelpfulnesDenominator."
   ]
  },
  {
   "cell_type": "code",
   "execution_count": 4,
   "metadata": {
    "_uuid": "0a77d47e68efd6859d84e6dc7c813ee5b680adaf"
   },
   "outputs": [],
   "source": [
    "data_score_removed = data_sel[data_sel['Score']!=3]       #Neutral reviews removed"
   ]
  },
  {
   "cell_type": "markdown",
   "metadata": {
    "_uuid": "26eda6bf2503287bf92a5b3139fa3d7a9dd8b101"
   },
   "source": [
    "Converting Score values into class label either Positive or Negative."
   ]
  },
  {
   "cell_type": "code",
   "execution_count": 5,
   "metadata": {
    "_uuid": "a2b51786e7a6da8f9ef8f66d98ccf3069540ce0e"
   },
   "outputs": [],
   "source": [
    "def partition(x):\n",
    "    if x < 3:\n",
    "        return 'negative'\n",
    "    return 'positive'\n",
    "\n",
    "score_upd = data_score_removed['Score']\n",
    "t = score_upd.map(partition)\n",
    "data_score_removed['Score']=t"
   ]
  },
  {
   "cell_type": "markdown",
   "metadata": {
    "_uuid": "11da101e437e715e7e900eae0daf683fa5129140"
   },
   "source": [
    "2. **Basic Cleaning**\n",
    " \n",
    "**Deduplication** means removing duplicate rows, It is necessary to remove duplicates in order to get unbaised results. Checking duplicates based on UserId, ProfileName, Time, Text. If all these values are equal then we will remove those records. (No user can type a review on same exact time for different products.)\n",
    "\n",
    "\n",
    "We have seen that HelpfulnessNumerator should always be less than or equal to HelpfulnessDenominator so checking this condition and removing those records also.\n"
   ]
  },
  {
   "cell_type": "code",
   "execution_count": 6,
   "metadata": {
    "_uuid": "90a6d730b53f4b371409fff116025e2fd29ebf5a"
   },
   "outputs": [],
   "source": [
    "final_data = data_score_removed.drop_duplicates(subset={\"UserId\",\"ProfileName\",\"Time\",\"Text\"})"
   ]
  },
  {
   "cell_type": "code",
   "execution_count": 7,
   "metadata": {
    "_uuid": "6ca5ba78366ef774fb5ca3c56bf6e5bc93a66e36"
   },
   "outputs": [],
   "source": [
    "final = final_data[final_data['HelpfulnessNumerator'] <= final_data['HelpfulnessDenominator']]\n"
   ]
  },
  {
   "cell_type": "code",
   "execution_count": 8,
   "metadata": {
    "_uuid": "61e8f9671ad79b0b3e5eb15953ac76e15e216e84"
   },
   "outputs": [],
   "source": [
    "final_X = final['Text']\n",
    "final_y = final['Score']"
   ]
  },
  {
   "cell_type": "markdown",
   "metadata": {
    "_uuid": "1b0ead76f4f3eeb725cdad927053df4bda1efea3"
   },
   "source": [
    "Converting all words to lowercase and removing punctuations and html tags if any\n",
    "\n",
    "**Stemming**- Converting the words into their base word or stem word ( Ex - tastefully, tasty,  these words are converted to stem word called 'tasti'). This reduces the vector dimension because we dont consider all similar words  \n",
    "\n",
    "**Stopwords** - Stopwords are the unnecessary words that even if they are removed the sentiment of the sentence dosent change.\n",
    "\n",
    "Ex -    This pasta is so tasty ==> pasta tasty    ( This , is, so are stopwords so they are removed)\n",
    "\n",
    "To see all the stopwords see the below code cell."
   ]
  },
  {
   "cell_type": "code",
   "execution_count": 9,
   "metadata": {
    "_uuid": "3ab617bd0129fd68f13d2de64fc31f0395e052d8"
   },
   "outputs": [
    {
     "name": "stdout",
     "output_type": "stream",
     "text": [
      "{'myself', 'couldn', 'i', 'while', \"you'd\", 'are', \"hadn't\", \"haven't\", 'have', 'was', 'been', 'yours', 'mightn', 'how', \"that'll\", \"hasn't\", \"isn't\", 'him', 'be', 'all', 'these', 'any', \"aren't\", 'had', 'didn', 'during', 'ours', \"you've\", \"it's\", 'is', 'against', 'just', \"should've\", 'needn', 'don', 'than', 'hadn', 'by', 'this', 'ourselves', 'my', 'll', 'isn', 'its', 'at', 'themselves', 'that', 'here', 'until', 'off', 'further', 'she', 'each', \"shouldn't\", \"needn't\", 'few', 'having', 's', \"wouldn't\", 'only', \"mightn't\", 'shouldn', 've', 'when', \"you'll\", 'should', 'so', 'did', 'why', 'then', \"wasn't\", 'your', 'on', 'again', 'were', 'it', \"shan't\", 'm', 'very', 'y', 'doing', 'o', \"won't\", 'or', 'hasn', 'but', 'will', 'down', 'in', 'aren', 'herself', 'haven', 'not', 'because', \"couldn't\", 'those', 'the', 'own', 'we', 'for', 'can', 'about', 'does', 'you', 'am', 'them', 'there', 'up', 't', 'whom', 'out', 'between', 'other', 'itself', 'of', 'an', 'a', 'below', 'into', 'what', 'where', 'won', 'wouldn', 'most', 'himself', \"don't\", 'shan', \"mustn't\", 'after', 'nor', 'over', 'above', 'yourselves', 'who', \"didn't\", 'both', 'no', 'they', 'doesn', 'under', 'me', 'he', 'with', 'from', 'yourself', 'wasn', 'once', 'through', \"weren't\", \"doesn't\", 'and', 'more', 'which', 'if', 're', 'ma', 'hers', 'as', 'being', 'd', 'such', \"you're\", 'do', 'before', 'theirs', 'to', 'now', 'ain', 'her', 'their', 'some', 'our', 'weren', 'his', 'mustn', 'has', \"she's\", 'too', 'same'}\n"
     ]
    }
   ],
   "source": [
    "stop = set(stopwords.words('english')) \n",
    "print(stop)"
   ]
  },
  {
   "cell_type": "code",
   "execution_count": 10,
   "metadata": {
    "_uuid": "9a82923d71ffb9e08b70fbe21c811a487e41c72a"
   },
   "outputs": [],
   "source": [
    "import re\n",
    "temp =[]\n",
    "snow = nltk.stem.SnowballStemmer('english')\n",
    "for sentence in final_X:\n",
    "    sentence = sentence.lower()                 # Converting to lowercase\n",
    "    cleanr = re.compile('<.*?>')\n",
    "    sentence = re.sub(cleanr, ' ', sentence)        #Removing HTML tags\n",
    "    sentence = re.sub(r'[?|!|\\'|\"|#]',r'',sentence)\n",
    "    sentence = re.sub(r'[.|,|)|(|\\|/]',r' ',sentence)        #Removing Punctuations\n",
    "    \n",
    "    words = [snow.stem(word) for word in sentence.split() if word not in stopwords.words('english')]   # Stemming and removing stopwords\n",
    "    temp.append(words)\n",
    "    \n",
    "final_X = temp    "
   ]
  },
  {
   "cell_type": "code",
   "execution_count": 11,
   "metadata": {
    "_uuid": "94dffc6951e46f0e9794dbabe3432344ed95b800"
   },
   "outputs": [
    {
     "name": "stdout",
     "output_type": "stream",
     "text": [
      "['product', 'arriv', 'label', 'jumbo', 'salt', 'peanut', 'peanut', 'actual', 'small', 'size', 'unsalt', 'sure', 'error', 'vendor', 'intend', 'repres', 'product', 'jumbo']\n"
     ]
    }
   ],
   "source": [
    "print(final_X[1])"
   ]
  },
  {
   "cell_type": "code",
   "execution_count": 12,
   "metadata": {
    "_uuid": "c9d7c746dae70cb28d489f5f239a8e1e5b46ed1b"
   },
   "outputs": [
    {
     "name": "stdout",
     "output_type": "stream",
     "text": [
      " product arriv label jumbo salt peanut peanut actual small size unsalt sure error vendor intend repres product jumbo\n"
     ]
    }
   ],
   "source": [
    "sent = []\n",
    "for row in final_X:\n",
    "    sequ = ''\n",
    "    for word in row:\n",
    "        sequ = sequ + ' ' + word\n",
    "    sent.append(sequ)\n",
    "\n",
    "final_X = sent\n",
    "print(final_X[1])\n"
   ]
  },
  {
   "cell_type": "markdown",
   "metadata": {
    "_uuid": "67431e1466aefbba119b54205893dd0dcdff9f3b"
   },
   "source": [
    "3. **Techniques for Encoding**\n",
    "\n",
    "      **BAG OF WORDS**\n",
    "      \n",
    "      In BoW we construct a dictionary that contains set of all unique words from our text review dataset.The frequency of the word is counted here. if there are **d** unique words in our dictionary then for every sentence or review the vector will be of length **d** and count of word from review is stored at its particular location in vector. The vector will be highly sparse in such case.\n",
    "      \n",
    "      Ex. pasta is tasty and pasta is good\n",
    "      \n",
    "     **[0]....[1]............[1]...........[2]..........[2]............[1]..........**             <== Its vector representation ( remaining all dots will be represented as zeroes)\n",
    "     \n",
    "     **[a]..[and].....[good].......[is].......[pasta]....[tasty].......**            <==This is dictionary\n",
    "      .\n",
    "      \n",
    "    Using scikit-learn's CountVectorizer we can get the BoW and check out all the parameters it consists of, one of them is max_features =5000 it tells about to consider only top 5000 most frequently repeated words to place in a dictionary. so our dictionary length or vector length will be only 5000\n",
    "    \n",
    "\n",
    "\n",
    "   **BINARY BAG OF WORDS**\n",
    "    \n",
    "   In binary BoW, we dont count the frequency of word, we just place **1** if the word appears in the review or else **0**. In CountVectorizer there is a parameter **binary = true** this makes our BoW to binary BoW.\n",
    "   \n",
    "  "
   ]
  },
  {
   "cell_type": "code",
   "execution_count": 13,
   "metadata": {
    "_uuid": "a640c6fb9a16e4f0e271c1a101411af2d053fca3",
    "scrolled": true
   },
   "outputs": [
    {
     "name": "stdout",
     "output_type": "stream",
     "text": [
      "  (0, 3641)\t1\n",
      "  (0, 2326)\t1\n",
      "  (0, 4734)\t1\n",
      "  (0, 1539)\t1\n",
      "  (0, 4314)\t1\n",
      "  (0, 4676)\t1\n",
      "  (0, 3980)\t1\n",
      "  (0, 4013)\t1\n",
      "  (0, 162)\t1\n",
      "  (0, 3219)\t2\n",
      "  (0, 3770)\t1\n",
      "  (0, 2420)\t2\n",
      "  (0, 2493)\t1\n",
      "  (0, 332)\t1\n",
      "  (0, 3432)\t2\n"
     ]
    }
   ],
   "source": [
    "count_vect = CountVectorizer(max_features=5000)\n",
    "bow_data = count_vect.fit_transform(final_X)\n",
    "print(bow_data[1])\n"
   ]
  },
  {
   "cell_type": "markdown",
   "metadata": {
    "_uuid": "da9a72410e69708650ccf3263fea6d9b1222147f"
   },
   "source": [
    " **Drawbacks of BoW/ Binary BoW**\n",
    " \n",
    " Our main objective in doing these text to vector encodings is that similar meaning text vectors should be close to each other, but in some cases this may not possible for Bow\n",
    " \n",
    "For example, if we consider two reviews **This pasta is very tasty** and **This pasta is not tasty** after stopwords removal both sentences will be converted to **pasta tasty** so both giving exact same meaning.\n",
    "\n",
    "The main problem is here we are not considering the front and back words related to every word, here comes Bigram and Ngram techniques."
   ]
  },
  {
   "cell_type": "markdown",
   "metadata": {
    "_uuid": "a8c25fa64918f9b5129ca8d424684354c29f041d"
   },
   "source": [
    "**BI-GRAM BOW**\n",
    "\n",
    "Considering pair of words for creating dictionary is Bi-Gram , Tri-Gram means three consecutive words so as NGram.\n",
    "\n",
    "CountVectorizer has a parameter **ngram_range** if assigned to (1,2) it considers Bi-Gram BoW\n",
    "\n",
    "But this massively increases our dictionary size "
   ]
  },
  {
   "cell_type": "code",
   "execution_count": 14,
   "metadata": {
    "_uuid": "3bc1a606a42d4e333baa3c62d5a7e5953db28cd9"
   },
   "outputs": [],
   "source": [
    "final_B_X = final_X"
   ]
  },
  {
   "cell_type": "code",
   "execution_count": 15,
   "metadata": {
    "_uuid": "646f10e703dca9daf8a0cca2b5c23f0a21d4ccec"
   },
   "outputs": [
    {
     "name": "stdout",
     "output_type": "stream",
     "text": [
      "  (0, 143171)\t1\n",
      "  (0, 151696)\t1\n",
      "  (0, 95087)\t1\n",
      "  (0, 196648)\t1\n",
      "  (0, 60866)\t1\n",
      "  (0, 177168)\t1\n",
      "  (0, 193567)\t1\n",
      "  (0, 164722)\t1\n",
      "  (0, 165627)\t1\n",
      "  (0, 4021)\t1\n",
      "  (0, 133855)\t1\n",
      "  (0, 133898)\t1\n",
      "  (0, 155987)\t1\n",
      "  (0, 97865)\t1\n",
      "  (0, 100490)\t1\n",
      "  (0, 11861)\t1\n",
      "  (0, 142800)\t1\n",
      "  (0, 151689)\t1\n",
      "  (0, 95076)\t1\n",
      "  (0, 196632)\t1\n",
      "  (0, 60852)\t1\n",
      "  (0, 177092)\t1\n",
      "  (0, 193558)\t1\n",
      "  (0, 164485)\t1\n",
      "  (0, 165423)\t1\n",
      "  (0, 3831)\t1\n",
      "  (0, 133854)\t2\n",
      "  (0, 155850)\t1\n",
      "  (0, 97859)\t2\n",
      "  (0, 100430)\t1\n",
      "  (0, 11784)\t1\n",
      "  (0, 142748)\t2\n"
     ]
    }
   ],
   "source": [
    "count_vect = CountVectorizer(ngram_range=(1,2))\n",
    "Bigram_data = count_vect.fit_transform(final_B_X)\n",
    "print(Bigram_data[1])"
   ]
  },
  {
   "cell_type": "markdown",
   "metadata": {
    "_uuid": "3d29a0749cc26757d3f311cadee7dfdd97aa7c76"
   },
   "source": [
    "**TF-IDF**\n",
    "\n",
    "**Term Frequency -  Inverse Document Frequency** it makes sure that less importance is given to most frequent words and also considers less frequent words.\n",
    "\n",
    "**Term Frequency** is number of times a **particular word(W)** occurs in a review divided by totall number of words **(Wr)** in review. The term frequency value ranges from 0 to 1.\n",
    "\n",
    "**Inverse Document Frequency** is calculated as **log(Total Number of Docs(N) / Number of Docs which contains particular word(n))**. Here Docs referred as Reviews.\n",
    "\n",
    "\n",
    "**TF-IDF** is **TF * IDF** that is **(W/Wr)*LOG(N/n)**\n",
    "\n",
    "\n",
    " Using scikit-learn's tfidfVectorizer we can get the TF-IDF.\n",
    "\n",
    "So even here we get a TF-IDF value for every word and in some cases it may consider different meaning reviews as similar after stopwords removal. so to over come we can use BI-Gram or NGram."
   ]
  },
  {
   "cell_type": "code",
   "execution_count": 16,
   "metadata": {
    "_uuid": "b1870137f2b5f4f0e97eaa0b8812cae83c53ed21"
   },
   "outputs": [
    {
     "name": "stdout",
     "output_type": "stream",
     "text": [
      "  (0, 3432)\t0.1822092004981035\n",
      "  (0, 332)\t0.1574317775964303\n",
      "  (0, 2493)\t0.18769649750089953\n",
      "  (0, 2420)\t0.5671119742041831\n",
      "  (0, 3770)\t0.1536626385509959\n",
      "  (0, 3219)\t0.3726548417697838\n",
      "  (0, 162)\t0.14731616688674187\n",
      "  (0, 4013)\t0.14731616688674187\n",
      "  (0, 3980)\t0.14758995053747803\n",
      "  (0, 4676)\t0.2703170210936338\n",
      "  (0, 4314)\t0.14376924933112933\n",
      "  (0, 1539)\t0.2676489579732629\n",
      "  (0, 4734)\t0.22110622670603633\n",
      "  (0, 2326)\t0.25860104128863787\n",
      "  (0, 3641)\t0.27633136515735446\n"
     ]
    }
   ],
   "source": [
    "final_tf = final_X\n",
    "tf_idf = TfidfVectorizer(max_features=5000)\n",
    "tf_data = tf_idf.fit_transform(final_tf)\n",
    "print(tf_data[1])"
   ]
  },
  {
   "cell_type": "markdown",
   "metadata": {
    "_uuid": "a501388406550f2336f60e20cd0c4a3acc88cfe1"
   },
   "source": [
    "so to actually overcome the problem of semantical reviews having close distance we have Word2Vec\n",
    "\n",
    "**Word2Vec**\n",
    "\n",
    "\n",
    "Word2Vec actually takes the semantic meaning of the words and their relationships between other words. it learns all the internal relationships between the words.It represents the word in dense vector form.\n",
    "\n",
    "Using **Gensim's** library we have Word2Vec which takes parameters like **min_count = 5** considers only if word repeats more than 5 times in entire data.\n",
    "**size = 50** gives a vector length of size 50 and **workers** are cores to run this.\n",
    "\n",
    "\n",
    "**Average Word2Vec**\n",
    "\n",
    "Compute the Word2vec of each of the words and add the vectors of each words of the sentence and divide the vector with the number of words of the sentence.Simply Averaging the Word2Vec of all words."
   ]
  },
  {
   "cell_type": "code",
   "execution_count": 17,
   "metadata": {
    "_uuid": "5d6624958b5df28316436a8cea85cb63d94f96e0"
   },
   "outputs": [],
   "source": [
    "w2v_data = final_X"
   ]
  },
  {
   "cell_type": "code",
   "execution_count": 18,
   "metadata": {
    "_uuid": "90ca624436fe8e1a5a59d6bac83444032f894dbb"
   },
   "outputs": [],
   "source": [
    "splitted = []\n",
    "for row in w2v_data: \n",
    "    splitted.append([word for word in row.split()])     #splitting words"
   ]
  },
  {
   "cell_type": "code",
   "execution_count": 19,
   "metadata": {
    "_uuid": "218b6bba2b74252044056f62911d56b9607ce640"
   },
   "outputs": [],
   "source": [
    "train_w2v = Word2Vec(splitted,min_count=5,size=50, workers=4)"
   ]
  },
  {
   "cell_type": "code",
   "execution_count": 20,
   "metadata": {
    "_uuid": "603ccea8fbfe2901e4099eb6dd3dad03c571d123"
   },
   "outputs": [],
   "source": [
    "avg_data = []\n",
    "for row in splitted:\n",
    "    vec = np.zeros(50)\n",
    "    count = 0\n",
    "    for word in row:\n",
    "        try:\n",
    "            vec += train_w2v[word]\n",
    "            count += 1\n",
    "        except:\n",
    "            pass\n",
    "    avg_data.append(vec/count)\n",
    "    "
   ]
  },
  {
   "cell_type": "code",
   "execution_count": 21,
   "metadata": {
    "_uuid": "a2ed9200800d1edf172331b7b205d97b81924a83"
   },
   "outputs": [
    {
     "name": "stdout",
     "output_type": "stream",
     "text": [
      "[ 0.10633459  0.13809241 -0.31903746 -0.13181521 -0.2148949  -0.12497693\n",
      " -0.04080586  0.62327078  0.08554989 -0.05664759  0.2866584   0.01426788\n",
      "  0.54800349  0.3330884  -0.09435926  0.02620567 -0.17580219 -0.13678748\n",
      " -0.14346219  0.28110569  0.32539288  0.24864704 -0.55982462  0.4809519\n",
      " -0.06811121  0.13659069  0.09517061 -0.05140536  0.30564097  0.36861236\n",
      "  0.34775986  0.72079292 -0.43444114  0.13538126 -0.03166062 -0.15985959\n",
      "  0.30940363 -0.04276447 -0.08671832  0.36376539  0.30648156 -0.2535723\n",
      " -0.39730029  0.03517909  0.06334804 -0.07221556  0.22585394 -0.44916547\n",
      " -0.43936174  0.0361915 ]\n"
     ]
    }
   ],
   "source": [
    "print(avg_data[1])"
   ]
  },
  {
   "cell_type": "markdown",
   "metadata": {
    "_uuid": "c49b23c138aebfe36f85f898e551dce8cb2a5f2f"
   },
   "source": [
    "**TF-IDF WORD2VEC**\n",
    "\n",
    "in TF-IDF Word2Vec the Word2Vec value of each word is multiplied by the tfidf value of that word and summed up and then divided by the sum of the tfidf values of the sentence.\n",
    "\n",
    "Something like  \n",
    "\n",
    "                        V = ( t(W1)*w2v(W1) + t(W2)*w2v(W2) +.....+t(Wn)*w2v(Wn))/(t(W1)+t(W2)+....+t(Wn))"
   ]
  },
  {
   "cell_type": "code",
   "execution_count": 22,
   "metadata": {
    "_uuid": "4c27746720416ea693aed4ccfa9f9c5f73217d04"
   },
   "outputs": [],
   "source": [
    "tf_w_data = final_X\n",
    "tf_idf = TfidfVectorizer(max_features=5000)\n",
    "tf_idf_data = tf_idf.fit_transform(tf_w_data)"
   ]
  },
  {
   "cell_type": "code",
   "execution_count": 23,
   "metadata": {
    "_uuid": "b3b6aacff71e09990882427498f75248e8ed08a9"
   },
   "outputs": [
    {
     "name": "stdout",
     "output_type": "stream",
     "text": [
      "[ 0.06241824  0.08504758 -0.31619775  0.16886339 -0.28298455 -0.10965029\n",
      "  0.09520426  0.80833275  0.06970318  0.09230006  0.37296815 -0.05549585\n",
      "  0.51006592  0.43734032 -0.11657764 -0.13956295 -0.02913555 -0.03426978\n",
      " -0.1072823   0.31539926  0.33714126  0.34347097 -0.49499545  0.56279667\n",
      " -0.47215601  0.12216961  0.15942837 -0.28091281  0.33675403  0.17388769\n",
      "  0.46250709  0.92158335 -0.65545409  0.15551585 -0.11994225 -0.18773574\n",
      "  0.47291627 -0.12163895 -0.04144927  0.21858701  0.3434296  -0.41198155\n",
      " -0.50600955  0.15004531 -0.02317128 -0.0503962   0.22449031 -0.46675279\n",
      " -0.50055964  0.01182543]\n"
     ]
    }
   ],
   "source": [
    "tf_w_data = []\n",
    "tf_idf_data = tf_idf_data.toarray()\n",
    "i = 0\n",
    "for row in splitted:\n",
    "    vec = [0 for i in range(50)]\n",
    "    \n",
    "    temp_tfidf = []\n",
    "    for val in tf_idf_data[i]:\n",
    "        if val != 0:\n",
    "            temp_tfidf.append(val)\n",
    "    \n",
    "    count = 0\n",
    "    tf_idf_sum = 0\n",
    "    for word in row:\n",
    "        try:\n",
    "            count += 1\n",
    "            tf_idf_sum = tf_idf_sum + temp_tfidf[count-1]\n",
    "            vec += (temp_tfidf[count-1] * train_w2v[word])\n",
    "        except:\n",
    "            pass\n",
    "    vec = (float)(1/tf_idf_sum) * vec\n",
    "    tf_w_data.append(vec)\n",
    "    i = i + 1\n",
    "\n",
    "print(tf_w_data[1])\n",
    "    "
   ]
  },
  {
   "cell_type": "markdown",
   "metadata": {
    "_uuid": "25200364a079a701a518992ebd6fa4ac2110eef0"
   },
   "source": [
    "**Conclusion**\n",
    "\n",
    "Throughout this kernel we have seen different techniques for encoding text data into numerical vectors. But which technique is appropriate for our machine learning model depends on the structure of the data and the objective of our model. "
   ]
  }
 ],
 "metadata": {
  "kernelspec": {
   "display_name": "Python 3",
   "language": "python",
   "name": "python3"
  },
  "language_info": {
   "codemirror_mode": {
    "name": "ipython",
    "version": 3
   },
   "file_extension": ".py",
   "mimetype": "text/x-python",
   "name": "python",
   "nbconvert_exporter": "python",
   "pygments_lexer": "ipython3",
   "version": "3.7.4"
  }
 },
 "nbformat": 4,
 "nbformat_minor": 4
}
